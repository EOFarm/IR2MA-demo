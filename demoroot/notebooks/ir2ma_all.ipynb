{
 "cells": [
  {
   "cell_type": "code",
   "execution_count": null,
   "id": "94e710d3-49d9-41d4-b1c6-6925c1a957d0",
   "metadata": {},
   "outputs": [],
   "source": [
    "from owslib.wms import WebMapService\n",
    "import folium"
   ]
  },
  {
   "cell_type": "code",
   "execution_count": null,
   "id": "ee94114c-a6fa-4538-8fa9-5cf9526a5e45",
   "metadata": {},
   "outputs": [],
   "source": [
    "# Available years 2017-2021\n",
    "year = '2021'\n",
    "# Available sensors: S2, L8\n",
    "sensor = 'S2'\n",
    "# Available product names: SR, TIR, NDVI, NDWI\n",
    "product = 'NDVI'\n",
    "wms_endpoint = f'http://150.140.202.118:82/?map=/etc/mapserver/IR2M/{sensor}_{product}_{year}.map&service=WMS&version=1.3.0&request=GetCapabilities'"
   ]
  },
  {
   "cell_type": "code",
   "execution_count": null,
   "id": "9a70453e-8514-4f43-9d00-03a583dcf351",
   "metadata": {},
   "outputs": [],
   "source": [
    "wms = WebMapService(wms_endpoint, version='1.3.0')"
   ]
  },
  {
   "cell_type": "code",
   "execution_count": null,
   "id": "43a4ceb0-2972-4540-b442-84e6300a219d",
   "metadata": {},
   "outputs": [],
   "source": [
    "wms.identification.title"
   ]
  },
  {
   "cell_type": "code",
   "execution_count": null,
   "id": "7fd0aa8a-2edf-4f34-b6e4-50dc62645ecd",
   "metadata": {},
   "outputs": [],
   "source": [
    "[op.name for op in wms.operations]"
   ]
  },
  {
   "cell_type": "code",
   "execution_count": null,
   "id": "e295b3aa-7e56-4ca5-97f6-3565cb5a18e0",
   "metadata": {},
   "outputs": [],
   "source": [
    "list(wms.contents)"
   ]
  },
  {
   "cell_type": "code",
   "execution_count": null,
   "id": "514af887-5c4b-491f-b6d2-b901041a3ae9",
   "metadata": {},
   "outputs": [],
   "source": [
    "scene_id = 'd20210622_wms'"
   ]
  },
  {
   "cell_type": "code",
   "execution_count": null,
   "id": "959b0081-d134-49d9-8056-c0c681dd14d2",
   "metadata": {},
   "outputs": [],
   "source": [
    "layer = wms.contents[scene_id]"
   ]
  },
  {
   "cell_type": "code",
   "execution_count": null,
   "id": "46e96563-eb68-4e3d-93c1-161fe63e4492",
   "metadata": {},
   "outputs": [],
   "source": [
    "layer.abstract"
   ]
  },
  {
   "cell_type": "code",
   "execution_count": null,
   "id": "46a70101-2a48-4e93-b1de-fc1f8d8c4d0d",
   "metadata": {},
   "outputs": [],
   "source": [
    "bbox = layer.boundingBoxWGS84\n",
    "print(bbox)"
   ]
  },
  {
   "cell_type": "code",
   "execution_count": null,
   "id": "e5b3a794-e386-410c-8c79-9e03d935d48f",
   "metadata": {},
   "outputs": [],
   "source": [
    "%matplotlib inline\n",
    "import os, sys\n",
    "import matplotlib.image as mpimg\n",
    "import matplotlib.pyplot as plt\n",
    "\n",
    "def get_map(wms, layer_name, bbox, filename, style=''):\n",
    "    wms.getOperationByName('GetMap').formatOptions\n",
    "    img = wms.getmap(layers=[layer_name],\n",
    "                     styles=[style],\n",
    "                     size=(600,300),\n",
    "                     srs='EPSG:4326',\n",
    "                     bbox=bbox,\n",
    "                     format='image/png',\n",
    "                     transparent=True)\n",
    "\n",
    "    with open(filename,'wb') as tmpfile:\n",
    "        tmpfile.write(img.read())"
   ]
  },
  {
   "cell_type": "code",
   "execution_count": null,
   "id": "2b2eb88e-885e-422e-a890-00d34e6cdc1f",
   "metadata": {},
   "outputs": [],
   "source": [
    "m = folium.Map(location=[39.1, 20.9], zoom_start=8, tiles='OpenStreetMap')\n",
    "folium.Rectangle(bounds=[[float(bbox[1]), float(bbox[0])], [float(bbox[3]), float(bbox[2])]]).add_to(m)\n",
    "m"
   ]
  },
  {
   "cell_type": "code",
   "execution_count": null,
   "id": "7ee1c06c-6d3f-4ecf-bb0b-ca76c16ec399",
   "metadata": {},
   "outputs": [],
   "source": [
    "get_map(wms,scene_id,bbox, 'rgb.png')\n",
    "image1 = mpimg.imread('rgb.png')\n",
    "fig = plt.figure(figsize=(12,7))\n",
    "img1 = plt.imshow(image1, extent=bbox, aspect='auto')\n",
    "plt.show()"
   ]
  },
  {
   "cell_type": "code",
   "execution_count": null,
   "id": "fd18549d-0762-43c0-a8dc-0830ff9f7d0f",
   "metadata": {},
   "outputs": [],
   "source": [
    "m = folium.Map(location=[39.1, 20.9], zoom_start=10, tiles='OpenStreetMap')\n",
    "\n",
    "folium.raster_layers.WmsTileLayer(\n",
    "    url=wms_endpoint,\n",
    "    name=f'IR2MA {sensor} {product} Layer',\n",
    "    fmt=\"image/png\",\n",
    "    layers=scene_id,\n",
    "    attr=u\"EOfarm © 2021\",\n",
    "    transparent=True,\n",
    "    overlay=True,\n",
    "    control=True,\n",
    ").add_to(m)\n",
    "folium.LayerControl().add_to(m)\n",
    "m"
   ]
  },
  {
   "cell_type": "code",
   "execution_count": null,
   "id": "56661d66-a19b-4e02-8d8f-978d1bd860dd",
   "metadata": {},
   "outputs": [],
   "source": []
  }
 ],
 "metadata": {
  "kernelspec": {
   "display_name": "Python 3",
   "language": "python",
   "name": "python3"
  },
  "language_info": {
   "codemirror_mode": {
    "name": "ipython",
    "version": 3
   },
   "file_extension": ".py",
   "mimetype": "text/x-python",
   "name": "python",
   "nbconvert_exporter": "python",
   "pygments_lexer": "ipython3",
   "version": "3.9.2"
  }
 },
 "nbformat": 4,
 "nbformat_minor": 5
}
