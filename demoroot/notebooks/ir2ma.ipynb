{
 "cells": [
  {
   "cell_type": "code",
   "execution_count": null,
   "id": "94e710d3-49d9-41d4-b1c6-6925c1a957d0",
   "metadata": {},
   "outputs": [],
   "source": [
    "from owslib.wms import WebMapService\n",
    "import folium"
   ]
  },
  {
   "cell_type": "code",
   "execution_count": null,
   "id": "ee94114c-a6fa-4538-8fa9-5cf9526a5e45",
   "metadata": {},
   "outputs": [],
   "source": [
    "# Available years 2017-2021\n",
    "year = '2021'\n",
    "# Available sensors: S2, L8\n",
    "sensor = 'S2'\n",
    "# Available product names: SR, TIR, NDVI, NDWI\n",
    "product = 'NDVI'\n",
    "wms_endpoint = f'http://150.140.202.118:82/?map=/etc/mapserver/IR2M/{sensor}_{product}_{year}.map&service=WMS&version=1.3.0&request=GetCapabilities'"
   ]
  },
  {
   "cell_type": "code",
   "execution_count": null,
   "id": "9a70453e-8514-4f43-9d00-03a583dcf351",
   "metadata": {},
   "outputs": [],
   "source": [
    "wms = WebMapService(wms_endpoint, version='1.3.0')\n",
    "layers = list(wms.contents)"
   ]
  },
  {
   "cell_type": "code",
   "execution_count": null,
   "id": "fd18549d-0762-43c0-a8dc-0830ff9f7d0f",
   "metadata": {},
   "outputs": [],
   "source": [
    "m = folium.Map(location=[39.1, 20.9], zoom_start=10, tiles='OpenStreetMap')\n",
    "\n",
    "for layer in layers[1:]:\n",
    "    folium.raster_layers.WmsTileLayer(\n",
    "        url=wms_endpoint,\n",
    "        name=f'IR2MA {sensor} {product} {layer}',\n",
    "        fmt=\"image/png\",\n",
    "        layers=layer,\n",
    "        attr=u\"EOfarm © 2021\",\n",
    "        transparent=True,\n",
    "        overlay=True,\n",
    "        control=True,\n",
    "        show=False,\n",
    "    ).add_to(m)\n",
    "\n",
    "folium.LayerControl().add_to(m)\n",
    "m"
   ]
  },
  {
   "cell_type": "code",
   "execution_count": null,
   "id": "56661d66-a19b-4e02-8d8f-978d1bd860dd",
   "metadata": {},
   "outputs": [],
   "source": []
  }
 ],
 "metadata": {
  "kernelspec": {
   "display_name": "Python 3",
   "language": "python",
   "name": "python3"
  },
  "language_info": {
   "codemirror_mode": {
    "name": "ipython",
    "version": 3
   },
   "file_extension": ".py",
   "mimetype": "text/x-python",
   "name": "python",
   "nbconvert_exporter": "python",
   "pygments_lexer": "ipython3",
   "version": "3.9.2"
  }
 },
 "nbformat": 4,
 "nbformat_minor": 5
}
